{
  "nbformat": 4,
  "nbformat_minor": 0,
  "metadata": {
    "colab": {
      "provenance": []
    },
    "kernelspec": {
      "name": "python3",
      "display_name": "Python 3"
    },
    "language_info": {
      "name": "python"
    }
  },
  "cells": [
    {
      "cell_type": "markdown",
      "source": [
        "#Twilio Account"
      ],
      "metadata": {
        "id": "QzVeBUfGwne-"
      }
    },
    {
      "cell_type": "markdown",
      "source": [
        "account_sid = 'AC06bb686837191b4dfcda490541de327d'\n",
        "\n",
        "auth_token = '26b1147601acc1918e517a6df428dc00'\n",
        "\n",
        "client = Client(account_sid, auth_token)\n",
        "\n",
        "message = client.messages \\\n",
        "\n",
        "    .create(\n",
        "        \n",
        "         body='Forest fire is detected , stay alert',\n",
        "\n",
        "         from_='+18318512346',\n",
        "\n",
        "         to='+916379720974'\n",
        "         \n",
        "     )\n",
        "\n",
        "print(message.sid)"
      ],
      "metadata": {
        "id": "Q3k-FhR7xNhC"
      }
    }
  ]
}
